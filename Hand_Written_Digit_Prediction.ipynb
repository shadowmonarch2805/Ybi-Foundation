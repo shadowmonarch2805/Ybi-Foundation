{
  "nbformat": 4,
  "nbformat_minor": 0,
  "metadata": {
    "colab": {
      "provenance": [],
      "authorship_tag": "ABX9TyOAd0YYELPSXRUQc5SEIdPu",
      "include_colab_link": true
    },
    "kernelspec": {
      "name": "python3",
      "display_name": "Python 3"
    },
    "language_info": {
      "name": "python"
    }
  },
  "cells": [
    {
      "cell_type": "markdown",
      "metadata": {
        "id": "view-in-github",
        "colab_type": "text"
      },
      "source": [
        "<a href=\"https://colab.research.google.com/github/shadowmonarch2805/Ybi-Foundation/blob/main/Hand_Written_Digit_Prediction.ipynb\" target=\"_parent\"><img src=\"https://colab.research.google.com/assets/colab-badge.svg\" alt=\"Open In Colab\"/></a>"
      ]
    },
    {
      "cell_type": "code",
      "execution_count": 15,
      "metadata": {
        "colab": {
          "base_uri": "https://localhost:8080/",
          "height": 1000
        },
        "id": "r9TVlmYmgQ1c",
        "outputId": "bea4df57-413a-4ca3-cff0-aeeb81df4a64"
      },
      "outputs": [
        {
          "output_type": "stream",
          "name": "stdout",
          "text": [
            "              precision    recall  f1-score   support\n",
            "\n",
            "           0       1.00      0.98      0.99        53\n",
            "           1       0.98      1.00      0.99        44\n",
            "           2       0.98      1.00      0.99        57\n",
            "           3       0.98      0.98      0.98        60\n",
            "           4       0.98      0.96      0.97        55\n",
            "           5       0.96      0.96      0.96        51\n",
            "           6       0.98      1.00      0.99        53\n",
            "           7       0.93      0.98      0.96        57\n",
            "           8       0.98      0.89      0.93        55\n",
            "           9       0.95      0.96      0.95        55\n",
            "\n",
            "    accuracy                           0.97       540\n",
            "   macro avg       0.97      0.97      0.97       540\n",
            "weighted avg       0.97      0.97      0.97       540\n",
            "\n",
            "              precision    recall  f1-score   support\n",
            "\n",
            "           0       1.00      1.00      1.00        49\n",
            "           1       0.98      1.00      0.99        53\n",
            "           2       1.00      0.98      0.99        55\n",
            "           3       0.97      1.00      0.98        63\n",
            "           4       1.00      0.97      0.98        63\n",
            "           5       0.98      0.96      0.97        52\n",
            "           6       0.98      1.00      0.99        50\n",
            "           7       0.98      0.98      0.98        51\n",
            "           8       0.95      0.98      0.96        53\n",
            "           9       0.96      0.92      0.94        51\n",
            "\n",
            "    accuracy                           0.98       540\n",
            "   macro avg       0.98      0.98      0.98       540\n",
            "weighted avg       0.98      0.98      0.98       540\n",
            "\n",
            "              precision    recall  f1-score   support\n",
            "\n",
            "           0       1.00      1.00      1.00        68\n",
            "           1       0.95      1.00      0.97        58\n",
            "           2       0.98      1.00      0.99        54\n",
            "           3       0.98      0.98      0.98        51\n",
            "           4       1.00      0.96      0.98        51\n",
            "           5       0.96      0.98      0.97        49\n",
            "           6       1.00      1.00      1.00        47\n",
            "           7       0.95      1.00      0.97        54\n",
            "           8       0.98      0.92      0.95        50\n",
            "           9       0.98      0.93      0.96        58\n",
            "\n",
            "    accuracy                           0.98       540\n",
            "   macro avg       0.98      0.98      0.98       540\n",
            "weighted avg       0.98      0.98      0.98       540\n",
            "\n",
            "              precision    recall  f1-score   support\n",
            "\n",
            "           0       0.98      0.98      0.98        52\n",
            "           1       0.98      1.00      0.99        55\n",
            "           2       1.00      0.98      0.99        50\n",
            "           3       0.98      1.00      0.99        46\n",
            "           4       0.98      1.00      0.99        60\n",
            "           5       1.00      0.96      0.98        53\n",
            "           6       1.00      1.00      1.00        51\n",
            "           7       1.00      0.97      0.99        68\n",
            "           8       0.96      0.98      0.97        55\n",
            "           9       0.94      0.96      0.95        50\n",
            "\n",
            "    accuracy                           0.98       540\n",
            "   macro avg       0.98      0.98      0.98       540\n",
            "weighted avg       0.98      0.98      0.98       540\n",
            "\n"
          ]
        },
        {
          "output_type": "display_data",
          "data": {
            "text/plain": [
              "<Figure size 1000x300 with 4 Axes>"
            ],
            "image/png": "[encoded data removed]"
          },
          "metadata": {}
        }
      ],
      "source": [
        "import pandas as pd\n",
        "import numpy as np\n",
        "import matplotlib.pyplot as plt\n",
        "from sklearn.datasets import load_digits\n",
        "df = load_digits()\n",
        "_,axes = plt.subplots(nrows=1, ncols=4,figsize=(10,3))\n",
        "for ax,image,label in zip(axes, df.images,df.target):\n",
        "  ax.set_axis_off()\n",
        "  ax.imshow(image,plt.cm.gray_r,interpolation=\"nearest\")\n",
        "  ax.set_title(\"Training : %i\"% label)\n",
        "  df.images.shape\n",
        "  df.images[0]\n",
        "  df.images[0].shape\n",
        "  len(df.images)\n",
        "  n_samples = len(df.images)\n",
        "  data = df.images.reshape((n_samples, -1))\n",
        "  data[0]\n",
        "  data[0].shape\n",
        "  data.shape\n",
        "  data.min()\n",
        "  data.max()\n",
        "  data=data/16\n",
        "  data.min()\n",
        "  data.max()\n",
        "  data[0]\n",
        "  from sklearn.model_selection import train_test_split\n",
        "  X_train , X_test , y_train,y_test = train_test_split(data , df.target , test_size=0.3\n",
        "      )\n",
        "  X_train.shape, X_test.shape,y_train.shape, y_test.shape\n",
        "  from sklearn.ensemble import RandomForestClassifier\n",
        "  rf = RandomForestClassifier()\n",
        "  rf.fit(X_train,y_train)\n",
        "  y_pred = rf.predict(X_test)\n",
        "  y_pred\n",
        "  from sklearn.metrics import confusion_matrix , classification_report\n",
        "  confusion_matrix(y_test , y_pred)\n",
        "  print(classification_report(y_test , y_pred))\n",
        "\n",
        "\n",
        "\n",
        "\n",
        "\n"
      ]
    },
    {
      "cell_type": "code",
      "source": [],
      "metadata": {
        "id": "OjQqolDzi8me"
      },
      "execution_count": null,
      "outputs": []
    }
  ]
}